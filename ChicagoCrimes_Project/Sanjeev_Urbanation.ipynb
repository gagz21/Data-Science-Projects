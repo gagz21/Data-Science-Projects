{
 "cells": [
  {
   "cell_type": "code",
   "execution_count": 3,
   "metadata": {
    "_cell_guid": "b1076dfc-b9ad-4769-8c92-a6c4dae69d19",
    "_uuid": "8f2839f25d086af736a60e9eeb907d3b93b6e0e5"
   },
   "outputs": [
    {
     "name": "stdout",
     "output_type": "stream",
     "text": [
      "['.ipynb_checkpoints', 'beach-weather-stations-automated-sensors.csv', 'Crimes_-_2001_to_present.csv', 'Madsen_Sanjeev_ProjectProposal.docx', 'Sanjeev_Madsens_Visualizations.ipynb', 'Sanjeev_Madsen_Crime&Weather.ipynb', 'Sanjeev_Madsen_FinalPresentation(ChicagoCrime).pptx', 'Sanjeev_Madsen_FinalProject(mine).docx', 'Sanjeev_Madsen_ProjectFinal.ipynb', 'temperature.csv', 'weather.csv', '~$njeev_Madsen_FinalProject(mine).docx', '~$Sanjeev_Madsen_FinalPresentation(ChicagoCrime).pptx']\n"
     ]
    }
   ],
   "source": [
    "# This Python 3 environment comes with many helpful analytics libraries installed\n",
    "# It is defined by the kaggle/python docker image: https://github.com/kaggle/docker-python\n",
    "\n",
    "import numpy as np # linear algebra\n",
    "import pandas as pd # data processing, CSV file I/O (e.g. pd.read_csv)\n",
    "import matplotlib.pyplot as plt\n",
    "import datetime as dt\n",
    "from scipy import stats\n",
    "from sklearn import preprocessing\n",
    "from sklearn.model_selection import KFold\n",
    "from sklearn.linear_model import LinearRegression\n",
    "from sklearn.metrics import mean_squared_error, r2_score\n",
    "from sklearn import datasets, linear_model\n",
    "from sklearn.model_selection import train_test_split\n",
    "from matplotlib import pyplot as plt\n",
    "\n",
    "%matplotlib inline\n",
    "\n",
    "#setting the directory path that I'll be using for this project.\n",
    "import os\n",
    "print(os.listdir(\"C:/Users/gagd2/Desktop/Connect/Urbanation\"))\n",
    "\n",
    "# Any results you write to the current directory are saved as output."
   ]
  },
  {
   "cell_type": "markdown",
   "metadata": {
    "_uuid": "b9099d93c64a91bf0d4d3a02912b79d0e5a1b60d"
   },
   "source": [
    "**This section is where I read the weather and crime data into their respective dataframes.** \n"
   ]
  },
  {
   "cell_type": "code",
   "execution_count": 4,
   "metadata": {
    "_cell_guid": "79c7e3d0-c299-4dcb-8224-4455121ee9b0",
    "_uuid": "d629ff2d2480ee46fbb7e2d37f6b5fab8052498a"
   },
   "outputs": [],
   "source": [
    "crime_chi = pd.read_csv(\"Crimes_-_2001_to_present.csv\", usecols=[\"Date\", \"Block\",\"IUCR\",\"Description\",\n",
    "                                                                 \"Primary Type\",\"Beat\",\"Location Description\",\n",
    "                                                                 \"Arrest\",\"Domestic\",\"Year\",\n",
    "                                                                 \"District\",\"Ward\",\"Community Area\",\"FBI Code\",\n",
    "                                                                 \"Latitude\",\"Longitude\",\"Location\",\"Zip Codes\"],\n",
    "                        error_bad_lines=False)"
   ]
  },
  {
   "cell_type": "code",
   "execution_count": 5,
   "metadata": {
    "_uuid": "f835aa38624f3d521b17d5472bed8cd6e46349fc"
   },
   "outputs": [],
   "source": [
    "weather = pd.read_csv(\"beach-weather-stations-automated-sensors.csv\", usecols=[\"Measurement Timestamp\", \"Air Temperature\", \"Total Rain\"], error_bad_lines=False)"
   ]
  },
  {
   "cell_type": "code",
   "execution_count": 6,
   "metadata": {
    "_uuid": "e71f71a51dcb1b2c91656d07cdb28a036ef918cd"
   },
   "outputs": [],
   "source": [
    "#rename the columns of the weather dataset and convert the date column to datetime datatype.\n",
    "weather.columns = ['Date', 'Temp', 'Total Precipitation']\n",
    "weather.loc[:,'Date'] = pd.to_datetime(weather.loc[:,'Date'])\n",
    "weather['Date'] = weather['Date'].dt.date"
   ]
  },
  {
   "cell_type": "code",
   "execution_count": 7,
   "metadata": {
    "_uuid": "5b6e1047695f0088d348eb511a608e96412d6271"
   },
   "outputs": [],
   "source": [
    "#This cell takes a long time to run - converting the crime dataset Date to datetime datatype\n",
    "crime_chi.loc[:,'Date'] = pd.to_datetime(crime_chi.loc[:,'Date'], dayfirst=True, yearfirst=False)\n",
    "crime_chi['Date'] = crime_chi['Date'].dt.date"
   ]
  },
  {
   "cell_type": "code",
   "execution_count": 8,
   "metadata": {
    "_uuid": "2951acd8d81fa998d10db10b57417bb1546661f0"
   },
   "outputs": [],
   "source": [
    "#sort the crime dataset by date values and drop all the na's from the weather dataset since those rows are of no value to us.\n",
    "crime_chi = crime_chi.sort_values(by=['Date'])\n",
    "weather = weather.dropna()"
   ]
  },
  {
   "cell_type": "code",
   "execution_count": 9,
   "metadata": {
    "_uuid": "40f519408130a28b6fa507c2e99a47ddf3e7d272"
   },
   "outputs": [],
   "source": [
    "#filtering both the datasets between years 2010 to 2017 instead of analyzing everything.\n",
    "start_date = dt.date(2015,4,25)\n",
    "# print(start_date)\n",
    "end_date = dt.date(2017,1,18)\n",
    "# print(end_date)\n",
    "date_mask = (weather['Date'] > start_date) & (weather['Date'] <= end_date)\n",
    "date_mask2 = (crime_chi['Date'] > start_date) & (crime_chi['Date'] <= end_date)"
   ]
  },
  {
   "cell_type": "code",
   "execution_count": 10,
   "metadata": {
    "_uuid": "01fa5866c30587f86d99c5bfa0ca4681da07d2e1"
   },
   "outputs": [],
   "source": [
    "#apply the filters to the original datasets.\n",
    "weather = weather.loc[date_mask]\n",
    "crime_chi = crime_chi.loc[date_mask2]"
   ]
  },
  {
   "cell_type": "code",
   "execution_count": 11,
   "metadata": {},
   "outputs": [],
   "source": [
    "#join the crime and weather datasets by the common column Date and write this into a new CSV file.\n",
    "CW_data = weather.join(crime_chi, on='Date', how='outer',\n",
    "                                    lsuffix='_left', rsuffix='_right')\n",
    "export_csv = CW_data.to_csv (r'CW_merged_Updated.csv', index = None, header=True)"
   ]
  },
  {
   "cell_type": "code",
   "execution_count": 12,
   "metadata": {},
   "outputs": [
    {
     "name": "stderr",
     "output_type": "stream",
     "text": [
      "C:\\Users\\gagd2\\Anaconda3\\lib\\site-packages\\IPython\\core\\interactiveshell.py:3049: DtypeWarning: Columns (0,1,10,11) have mixed types. Specify dtype option on import or set low_memory=False.\n",
      "  interactivity=interactivity, compiler=compiler, result=result)\n"
     ]
    },
    {
     "data": {
      "text/html": [
       "<div>\n",
       "<style scoped>\n",
       "    .dataframe tbody tr th:only-of-type {\n",
       "        vertical-align: middle;\n",
       "    }\n",
       "\n",
       "    .dataframe tbody tr th {\n",
       "        vertical-align: top;\n",
       "    }\n",
       "\n",
       "    .dataframe thead th {\n",
       "        text-align: right;\n",
       "    }\n",
       "</style>\n",
       "<table border=\"1\" class=\"dataframe\">\n",
       "  <thead>\n",
       "    <tr style=\"text-align: right;\">\n",
       "      <th></th>\n",
       "      <th>Date</th>\n",
       "      <th>Temp</th>\n",
       "      <th>Total Precipitation</th>\n",
       "      <th>Block</th>\n",
       "      <th>IUCR</th>\n",
       "      <th>Primary Type</th>\n",
       "      <th>Description</th>\n",
       "      <th>Location Description</th>\n",
       "      <th>Arrest</th>\n",
       "      <th>Domestic</th>\n",
       "      <th>Beat</th>\n",
       "      <th>District</th>\n",
       "      <th>Ward</th>\n",
       "      <th>Community Area</th>\n",
       "      <th>FBI Code</th>\n",
       "      <th>Year</th>\n",
       "      <th>Latitude</th>\n",
       "      <th>Longitude</th>\n",
       "      <th>Location</th>\n",
       "      <th>Zip Codes</th>\n",
       "    </tr>\n",
       "  </thead>\n",
       "  <tbody>\n",
       "    <tr>\n",
       "      <th>491193</th>\n",
       "      <td>615014</td>\n",
       "      <td>NaN</td>\n",
       "      <td>NaN</td>\n",
       "      <td>029XX W FLOURNOY ST</td>\n",
       "      <td>2024</td>\n",
       "      <td>NARCOTICS</td>\n",
       "      <td>POSS: HEROIN(WHITE)</td>\n",
       "      <td>STREET</td>\n",
       "      <td>True</td>\n",
       "      <td>False</td>\n",
       "      <td>1135.0</td>\n",
       "      <td>11.0</td>\n",
       "      <td>2.0</td>\n",
       "      <td>27.0</td>\n",
       "      <td>18</td>\n",
       "      <td>2017.0</td>\n",
       "      <td>41.872848</td>\n",
       "      <td>-87.699166</td>\n",
       "      <td>(41.872848437, -87.699165589)</td>\n",
       "      <td>21184.0</td>\n",
       "    </tr>\n",
       "    <tr>\n",
       "      <th>491194</th>\n",
       "      <td>615013</td>\n",
       "      <td>NaN</td>\n",
       "      <td>NaN</td>\n",
       "      <td>036XX S WABASH AVE</td>\n",
       "      <td>0545</td>\n",
       "      <td>ASSAULT</td>\n",
       "      <td>PRO EMP HANDS NO/MIN INJURY</td>\n",
       "      <td>SCHOOL, PUBLIC, BUILDING</td>\n",
       "      <td>False</td>\n",
       "      <td>False</td>\n",
       "      <td>213.0</td>\n",
       "      <td>2.0</td>\n",
       "      <td>3.0</td>\n",
       "      <td>35.0</td>\n",
       "      <td>08A</td>\n",
       "      <td>2017.0</td>\n",
       "      <td>41.828075</td>\n",
       "      <td>-87.624904</td>\n",
       "      <td>(41.8280754, -87.624904486)</td>\n",
       "      <td>4301.0</td>\n",
       "    </tr>\n",
       "    <tr>\n",
       "      <th>491195</th>\n",
       "      <td>615012</td>\n",
       "      <td>NaN</td>\n",
       "      <td>NaN</td>\n",
       "      <td>001XX S CLINTON ST</td>\n",
       "      <td>1121</td>\n",
       "      <td>DECEPTIVE PRACTICE</td>\n",
       "      <td>COUNTERFEITING DOCUMENT</td>\n",
       "      <td>STREET</td>\n",
       "      <td>False</td>\n",
       "      <td>False</td>\n",
       "      <td>121.0</td>\n",
       "      <td>1.0</td>\n",
       "      <td>2.0</td>\n",
       "      <td>28.0</td>\n",
       "      <td>10</td>\n",
       "      <td>2017.0</td>\n",
       "      <td>41.880055</td>\n",
       "      <td>-87.641138</td>\n",
       "      <td>(41.880054533, -87.641137777)</td>\n",
       "      <td>14914.0</td>\n",
       "    </tr>\n",
       "    <tr>\n",
       "      <th>491196</th>\n",
       "      <td>615076</td>\n",
       "      <td>NaN</td>\n",
       "      <td>NaN</td>\n",
       "      <td>010XX E 87TH ST</td>\n",
       "      <td>1154</td>\n",
       "      <td>DECEPTIVE PRACTICE</td>\n",
       "      <td>FINANCIAL IDENTITY THEFT $300 AND UNDER</td>\n",
       "      <td>NaN</td>\n",
       "      <td>False</td>\n",
       "      <td>False</td>\n",
       "      <td>412.0</td>\n",
       "      <td>4.0</td>\n",
       "      <td>8.0</td>\n",
       "      <td>44.0</td>\n",
       "      <td>11</td>\n",
       "      <td>2017.0</td>\n",
       "      <td>41.736736</td>\n",
       "      <td>-87.598532</td>\n",
       "      <td>(41.736736273, -87.598532484)</td>\n",
       "      <td>21546.0</td>\n",
       "    </tr>\n",
       "    <tr>\n",
       "      <th>491197</th>\n",
       "      <td>614976</td>\n",
       "      <td>NaN</td>\n",
       "      <td>NaN</td>\n",
       "      <td>077XX S COLES AVE</td>\n",
       "      <td>1245</td>\n",
       "      <td>DECEPTIVE PRACTICE</td>\n",
       "      <td>PAY TV SERVICE OFFENSES</td>\n",
       "      <td>RESIDENCE</td>\n",
       "      <td>False</td>\n",
       "      <td>False</td>\n",
       "      <td>421.0</td>\n",
       "      <td>4.0</td>\n",
       "      <td>7.0</td>\n",
       "      <td>43.0</td>\n",
       "      <td>11</td>\n",
       "      <td>2017.0</td>\n",
       "      <td>41.755903</td>\n",
       "      <td>-87.554440</td>\n",
       "      <td>(41.755902933, -87.554440264)</td>\n",
       "      <td>22538.0</td>\n",
       "    </tr>\n",
       "  </tbody>\n",
       "</table>\n",
       "</div>"
      ],
      "text/plain": [
       "          Date  Temp  Total Precipitation                Block  IUCR  \\\n",
       "491193  615014   NaN                  NaN  029XX W FLOURNOY ST  2024   \n",
       "491194  615013   NaN                  NaN   036XX S WABASH AVE  0545   \n",
       "491195  615012   NaN                  NaN   001XX S CLINTON ST  1121   \n",
       "491196  615076   NaN                  NaN      010XX E 87TH ST  1154   \n",
       "491197  614976   NaN                  NaN    077XX S COLES AVE  1245   \n",
       "\n",
       "              Primary Type                              Description  \\\n",
       "491193           NARCOTICS                      POSS: HEROIN(WHITE)   \n",
       "491194             ASSAULT              PRO EMP HANDS NO/MIN INJURY   \n",
       "491195  DECEPTIVE PRACTICE                  COUNTERFEITING DOCUMENT   \n",
       "491196  DECEPTIVE PRACTICE  FINANCIAL IDENTITY THEFT $300 AND UNDER   \n",
       "491197  DECEPTIVE PRACTICE                  PAY TV SERVICE OFFENSES   \n",
       "\n",
       "            Location Description Arrest Domestic    Beat  District  Ward  \\\n",
       "491193                    STREET   True    False  1135.0      11.0   2.0   \n",
       "491194  SCHOOL, PUBLIC, BUILDING  False    False   213.0       2.0   3.0   \n",
       "491195                    STREET  False    False   121.0       1.0   2.0   \n",
       "491196                       NaN  False    False   412.0       4.0   8.0   \n",
       "491197                 RESIDENCE  False    False   421.0       4.0   7.0   \n",
       "\n",
       "        Community Area FBI Code    Year   Latitude  Longitude  \\\n",
       "491193            27.0       18  2017.0  41.872848 -87.699166   \n",
       "491194            35.0      08A  2017.0  41.828075 -87.624904   \n",
       "491195            28.0       10  2017.0  41.880055 -87.641138   \n",
       "491196            44.0       11  2017.0  41.736736 -87.598532   \n",
       "491197            43.0       11  2017.0  41.755903 -87.554440   \n",
       "\n",
       "                             Location  Zip Codes  \n",
       "491193  (41.872848437, -87.699165589)    21184.0  \n",
       "491194    (41.8280754, -87.624904486)     4301.0  \n",
       "491195  (41.880054533, -87.641137777)    14914.0  \n",
       "491196  (41.736736273, -87.598532484)    21546.0  \n",
       "491197  (41.755902933, -87.554440264)    22538.0  "
      ]
     },
     "execution_count": 12,
     "metadata": {},
     "output_type": "execute_result"
    }
   ],
   "source": [
    "#import or read in this new merged CSV file to do further analysis. \n",
    "clean_CW = pd.read_csv(\"CW_merged_Updated.csv\", error_bad_lines=False)\n",
    "#drop duplicate date columns\n",
    "CrimeWea = clean_CW.drop([\"Date_left\",\"Date_right\"], axis=1)\n",
    "CrimeWea.tail()"
   ]
  },
  {
   "cell_type": "code",
   "execution_count": 13,
   "metadata": {},
   "outputs": [],
   "source": [
    "#drop nan values from the merged dataset\n",
    "CrimeWea = CrimeWea.dropna()\n"
   ]
  },
  {
   "cell_type": "code",
   "execution_count": 14,
   "metadata": {
    "_uuid": "55c54a24006fba71e037fea5342cdb24b4e677ae"
   },
   "outputs": [
    {
     "name": "stdout",
     "output_type": "stream",
     "text": [
      "                 Temp  Total Precipitation\n",
      "Date                                      \n",
      "2015-04-30   6.100000             2.500000\n",
      "2015-05-26  22.242857             4.928571\n",
      "2015-05-27  21.700000             5.472727\n",
      "2015-05-28  20.211111             5.600000\n",
      "2015-05-29  24.100000             6.756522\n",
      "2015-05-30  15.125000             9.441667\n",
      "2015-05-31   8.282609            10.300000\n",
      "2015-06-01   9.539130            10.300000\n",
      "2015-06-02  11.945000            10.300000\n",
      "2015-06-03  16.220000            10.300000\n",
      "2015-06-04  22.378947            10.300000\n",
      "2015-06-05  14.023529            10.300000\n",
      "2015-06-06  11.991304            10.300000\n",
      "2015-06-07  21.386957            15.869565\n",
      "2015-06-08  22.845455            21.040909\n",
      "2015-06-09  23.070000            27.800000\n",
      "2015-06-10  25.114286            27.800000\n",
      "2015-06-11  16.714286            28.166667\n",
      "2015-06-12  14.428571            34.061905\n",
      "2015-06-13  17.268182            36.090909\n",
      "2015-06-14  23.309091            61.959091\n",
      "2015-06-15  23.354167            78.683333\n",
      "2015-06-16  15.872727           110.300000\n",
      "2015-06-17  15.000000           111.604167\n",
      "2015-06-18  21.743478           113.878261\n",
      "2015-06-19  13.200000           114.700000\n",
      "2015-06-20  17.166667           115.557143\n",
      "2015-06-21  23.807143           125.100000\n",
      "2015-06-22  26.662162           160.878378\n",
      "2015-06-23  20.745652           172.508696\n",
      "...               ...                  ...\n",
      "2016-12-20  -3.544681            73.576596\n",
      "2016-12-21   0.325000            74.700000\n",
      "2016-12-22   2.512500            74.700000\n",
      "2016-12-23   2.255319            74.134043\n",
      "2016-12-24   2.537500            77.000000\n",
      "2016-12-25   1.848889            76.380000\n",
      "2016-12-26   8.655319            84.153191\n",
      "2016-12-27  -1.164583            87.200000\n",
      "2016-12-28   3.064583            87.200000\n",
      "2016-12-29   1.766667            87.200000\n",
      "2016-12-30   0.133333            87.200000\n",
      "2016-12-31   3.350000            87.200000\n",
      "2017-01-01   0.600000            86.135556\n",
      "2017-01-02   2.985417            90.131250\n",
      "2017-01-03   3.204255            96.725532\n",
      "2017-01-04  -8.548936            97.119149\n",
      "2017-01-05 -11.420833            97.950000\n",
      "2017-01-06 -13.881250            97.950000\n",
      "2017-01-07 -11.337500            97.950000\n",
      "2017-01-08 -10.064444            97.082222\n",
      "2017-01-09  -2.521739            96.295652\n",
      "2017-01-10   4.764583            82.910417\n",
      "2017-01-11   2.025532            73.165957\n",
      "2017-01-12  -2.639583            79.260417\n",
      "2017-01-13  -3.680851            77.093617\n",
      "2017-01-14  -0.460417            78.750000\n",
      "2017-01-15  -0.390909            78.750000\n",
      "2017-01-16   1.627660            83.048936\n",
      "2017-01-17   4.286957            97.906522\n",
      "2017-01-18   2.904167            98.900000\n",
      "\n",
      "[596 rows x 2 columns]\n",
      "Date\n",
      "2015-04-26     718\n",
      "2015-04-27     719\n",
      "2015-04-28     718\n",
      "2015-04-29     765\n",
      "2015-04-30     665\n",
      "2015-05-01     521\n",
      "2015-05-02     571\n",
      "2015-05-03     612\n",
      "2015-05-04     672\n",
      "2015-05-05     696\n",
      "2015-05-06     785\n",
      "2015-05-07     898\n",
      "2015-05-08     770\n",
      "2015-05-09     764\n",
      "2015-05-10     753\n",
      "2015-05-11     753\n",
      "2015-05-12     707\n",
      "2015-05-13     767\n",
      "2015-05-14     755\n",
      "2015-05-15     819\n",
      "2015-05-16     881\n",
      "2015-05-17     835\n",
      "2015-05-18     756\n",
      "2015-05-19     707\n",
      "2015-05-20     729\n",
      "2015-05-21     744\n",
      "2015-05-22     824\n",
      "2015-05-23     798\n",
      "2015-05-24     687\n",
      "2015-05-25     708\n",
      "              ... \n",
      "2016-12-20     692\n",
      "2016-12-21     728\n",
      "2016-12-22     702\n",
      "2016-12-23     728\n",
      "2016-12-24     604\n",
      "2016-12-25     487\n",
      "2016-12-26     646\n",
      "2016-12-27     662\n",
      "2016-12-28     722\n",
      "2016-12-29     648\n",
      "2016-12-30     742\n",
      "2016-12-31     703\n",
      "2017-01-01    1132\n",
      "2017-01-02     834\n",
      "2017-01-03     727\n",
      "2017-01-04     819\n",
      "2017-01-05     851\n",
      "2017-01-06     856\n",
      "2017-01-07     916\n",
      "2017-01-08     940\n",
      "2017-01-09     898\n",
      "2017-01-10     835\n",
      "2017-01-11     813\n",
      "2017-01-12     899\n",
      "2017-01-13     798\n",
      "2017-01-14     683\n",
      "2017-01-15     655\n",
      "2017-01-16     651\n",
      "2017-01-17     702\n",
      "2017-01-18     706\n",
      "Length: 634, dtype: int64\n"
     ]
    }
   ],
   "source": [
    "#Let's do some EDA\n",
    "#calculate the total frequency of all crimes per day. \n",
    "total_crimes = (crime_chi.groupby(['Date']).size())\n",
    "avg_weather = weather.groupby(['Date']).mean()\n",
    "print(avg_weather)\n",
    "print(total_crimes)"
   ]
  },
  {
   "cell_type": "markdown",
   "metadata": {
    "_uuid": "384e4ae42b0c4e0f37cf8236febf57f0f6eb2f24"
   },
   "source": [
    "**Creating a new dataframe containing [Date, Total Daily Crimes, Average Temperature for the Day[C]]**"
   ]
  },
  {
   "cell_type": "code",
   "execution_count": 15,
   "metadata": {},
   "outputs": [
    {
     "data": {
      "text/plain": [
       "Date\n",
       "2015-04-26    718\n",
       "2015-04-27    719\n",
       "2015-04-28    718\n",
       "2015-04-29    765\n",
       "2015-04-30    665\n",
       "dtype: int64"
      ]
     },
     "execution_count": 15,
     "metadata": {},
     "output_type": "execute_result"
    }
   ],
   "source": [
    "total_crimes.head()"
   ]
  },
  {
   "cell_type": "code",
   "execution_count": 16,
   "metadata": {
    "_uuid": "4cfbfed43c2116fee80544037106b5e85ba9345a"
   },
   "outputs": [
    {
     "data": {
      "text/plain": [
       "<matplotlib.axes._subplots.AxesSubplot at 0x1bb020470f0>"
      ]
     },
     "execution_count": 16,
     "metadata": {},
     "output_type": "execute_result"
    },
    {
     "data": {
      "image/png": "[encoded data removed]",
      "text/plain": [
       "<Figure size 432x288 with 1 Axes>"
      ]
     },
     "metadata": {
      "needs_background": "light"
     },
     "output_type": "display_data"
    },
    {
     "data": {
      "image/png": "[encoded data removed]",
      "text/plain": [
       "<Figure size 432x288 with 1 Axes>"
      ]
     },
     "metadata": {
      "needs_background": "light"
     },
     "output_type": "display_data"
    },
    {
     "data": {
      "image/png": "[encoded data removed]",
      "text/plain": [
       "<Figure size 432x288 with 1 Axes>"
      ]
     },
     "metadata": {
      "needs_background": "light"
     },
     "output_type": "display_data"
    }
   ],
   "source": [
    "#create a merged data frame of the crimes and weather and draw a plot with precipitation, temperature and number of incidents\n",
    "frames = [total_crimes, avg_weather]\n",
    "result = pd.concat(frames, axis=1, sort=True)\n",
    "result = result.dropna()\n",
    "result.columns = ['Incidents','Temp (C)', 'Total Precipitation (mm)']\n",
    "result.plot(kind='Scatter', x='Temp (C)', y='Incidents')\n",
    "result.plot(kind='Scatter', x='Total Precipitation (mm)', y='Incidents', color='r')\n",
    "result.plot()\n"
   ]
  },
  {
   "cell_type": "markdown",
   "metadata": {},
   "source": [
    "The above scatterplots show that the number of incidents increase by a rise in temperature  and there are also a lot of incidents happening when there is heavy rainfall. But when there is very heavy rainfall or flooding, the number of incidents are relatively lesser than what it is when the rainfall is between 0 to 50mm."
   ]
  },
  {
   "cell_type": "code",
   "execution_count": 17,
   "metadata": {},
   "outputs": [
    {
     "data": {
      "text/html": [
       "<div>\n",
       "<style scoped>\n",
       "    .dataframe tbody tr th:only-of-type {\n",
       "        vertical-align: middle;\n",
       "    }\n",
       "\n",
       "    .dataframe tbody tr th {\n",
       "        vertical-align: top;\n",
       "    }\n",
       "\n",
       "    .dataframe thead th {\n",
       "        text-align: right;\n",
       "    }\n",
       "</style>\n",
       "<table border=\"1\" class=\"dataframe\">\n",
       "  <thead>\n",
       "    <tr style=\"text-align: right;\">\n",
       "      <th></th>\n",
       "      <th>Incidents</th>\n",
       "      <th>Temp (C)</th>\n",
       "      <th>Total Precipitation (mm)</th>\n",
       "    </tr>\n",
       "  </thead>\n",
       "  <tbody>\n",
       "    <tr>\n",
       "      <th>2015-04-30</th>\n",
       "      <td>665</td>\n",
       "      <td>6.100000</td>\n",
       "      <td>2.500000</td>\n",
       "    </tr>\n",
       "    <tr>\n",
       "      <th>2015-05-26</th>\n",
       "      <td>770</td>\n",
       "      <td>22.242857</td>\n",
       "      <td>4.928571</td>\n",
       "    </tr>\n",
       "    <tr>\n",
       "      <th>2015-05-27</th>\n",
       "      <td>736</td>\n",
       "      <td>21.700000</td>\n",
       "      <td>5.472727</td>\n",
       "    </tr>\n",
       "    <tr>\n",
       "      <th>2015-05-28</th>\n",
       "      <td>800</td>\n",
       "      <td>20.211111</td>\n",
       "      <td>5.600000</td>\n",
       "    </tr>\n",
       "    <tr>\n",
       "      <th>2015-05-29</th>\n",
       "      <td>827</td>\n",
       "      <td>24.100000</td>\n",
       "      <td>6.756522</td>\n",
       "    </tr>\n",
       "  </tbody>\n",
       "</table>\n",
       "</div>"
      ],
      "text/plain": [
       "            Incidents   Temp (C)  Total Precipitation (mm)\n",
       "2015-04-30        665   6.100000                  2.500000\n",
       "2015-05-26        770  22.242857                  4.928571\n",
       "2015-05-27        736  21.700000                  5.472727\n",
       "2015-05-28        800  20.211111                  5.600000\n",
       "2015-05-29        827  24.100000                  6.756522"
      ]
     },
     "execution_count": 17,
     "metadata": {},
     "output_type": "execute_result"
    }
   ],
   "source": [
    "result.head()"
   ]
  },
  {
   "cell_type": "code",
   "execution_count": 18,
   "metadata": {},
   "outputs": [
    {
     "name": "stdout",
     "output_type": "stream",
     "text": [
      "[[2.21312979]]\n",
      "[704.77035152]\n"
     ]
    },
    {
     "data": {
      "image/png": "[encoded data removed]",
      "text/plain": [
       "<Figure size 432x288 with 1 Axes>"
      ]
     },
     "metadata": {
      "needs_background": "light"
     },
     "output_type": "display_data"
    },
    {
     "name": "stdout",
     "output_type": "stream",
     "text": [
      "[[0.05772936]]\n",
      "[723.59294147]\n"
     ]
    },
    {
     "data": {
      "image/png": "[encoded data removed]",
      "text/plain": [
       "<Figure size 432x288 with 1 Axes>"
      ]
     },
     "metadata": {
      "needs_background": "light"
     },
     "output_type": "display_data"
    }
   ],
   "source": [
    "result.isnull().values.any()\n",
    "regr = LinearRegression()\n",
    "\n",
    "X = pd.DataFrame(result['Temp (C)'])\n",
    "y = pd.DataFrame(result['Incidents'])\n",
    "# print(y)\n",
    "regr.fit(X,y)\n",
    "print(regr.coef_)\n",
    "print(regr.intercept_)\n",
    "pred = regr.predict(X)\n",
    "plt.scatter(result['Temp (C)'], result['Incidents'], color='g')\n",
    "plt.plot(X, pred, color='b')\n",
    "plt.show()\n",
    "\n",
    "X2 = pd.DataFrame(result['Total Precipitation (mm)'])\n",
    "regr2 = LinearRegression()\n",
    "regr2.fit(X2, y)\n",
    "p2 = regr2.predict(X2)\n",
    "print(regr2.coef_)\n",
    "print(regr2.intercept_)\n",
    "plt.scatter(result['Total Precipitation (mm)'], result['Incidents'], color='k')\n",
    "plt.plot(X2, p2, color='y')\n",
    "plt.show()\n"
   ]
  },
  {
   "cell_type": "markdown",
   "metadata": {
    "_uuid": "98392a31ba1e29afbdfad01437e86df8e6fe9610"
   },
   "source": [
    "**If the relationship between temperature and weather was strongly correlated, we could qualitatively observe that more extreme weather resulted in more incidents.**"
   ]
  }
 ],
 "metadata": {
  "kernelspec": {
   "display_name": "Python 3",
   "language": "python",
   "name": "python3"
  },
  "language_info": {
   "codemirror_mode": {
    "name": "ipython",
    "version": 3
   },
   "file_extension": ".py",
   "mimetype": "text/x-python",
   "name": "python",
   "nbconvert_exporter": "python",
   "pygments_lexer": "ipython3",
   "version": "3.6.8"
  }
 },
 "nbformat": 4,
 "nbformat_minor": 1
}
